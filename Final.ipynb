{
 "cells": [
  {
   "cell_type": "code",
   "execution_count": 1,
   "id": "a5e8dabf",
   "metadata": {},
   "outputs": [],
   "source": [
    "import pandas as pd\n",
    "from sklearn.svm import SVC"
   ]
  },
  {
   "cell_type": "code",
   "execution_count": 2,
   "id": "221b39ce",
   "metadata": {},
   "outputs": [],
   "source": [
    "first_dataset = pd.read_csv(\"C:/Users/hari prasad/Desktop/VIP/7th SEM_SRM/Minor_Project/Implementation/Sample_Test1.csv\", encoding='iso-8859-1')\n",
    "second_dataset = pd.read_csv(\"C:/Users/hari prasad/Desktop/VIP/7th SEM_SRM/Minor_Project/Implementation/Copy_of_dengue.csv\", encoding='iso-8859-1')\n"
   ]
  },
  {
   "cell_type": "markdown",
   "id": "81b8e712",
   "metadata": {},
   "source": [
    "# Label Encoding, the label encoding process would typically convert True to 1 and False to 0."
   ]
  },
  {
   "cell_type": "code",
   "execution_count": 3,
   "id": "dc59728f",
   "metadata": {},
   "outputs": [],
   "source": [
    "from sklearn.preprocessing import LabelEncoder\n",
    "\n",
    "label_encoder = LabelEncoder()\n",
    "\n",
    "columns_to_encode = ['dengue_servere_headche', 'dengue_pain_behind_the_eyes', 'dengue_joint_muscle_aches', 'dengue_metallic_taste_in_the_mouth', 'dengue_appetite_loss', 'dengue_addominal_pain', 'dengue_nausea_vomiting', 'spontaneous_bleeding', 'dengue_plasma leakage', 'dengue_circulatory failure']\n",
    "\n",
    "for column in columns_to_encode:\n",
    "    first_dataset[column] = label_encoder.fit_transform(first_dataset[column])\n",
    "    second_dataset[column] = label_encoder.transform(second_dataset[column])\n",
    "\n",
    "first_dataset.to_csv(r'C:/Users/hari prasad/Desktop/VIP/7th SEM_SRM/Minor_Project/Implementation/Sample_Test1.csv', index=False)\n",
    "second_dataset.to_csv(r'C:/Users/hari prasad/Desktop/VIP/7th SEM_SRM/Minor_Project/Implementation/Copy_of_dengue.csv', index=False)\n"
   ]
  },
  {
   "cell_type": "markdown",
   "id": "5d88da36",
   "metadata": {},
   "source": [
    "# Support Vector Machine (SVM) is employed for the classification of Dengue Hemorrhagic Fever (DHF) into its distinct phases: Phase 1, Phase 2, and Phase 3."
   ]
  },
  {
   "cell_type": "code",
   "execution_count": 4,
   "id": "20ad14c2",
   "metadata": {},
   "outputs": [],
   "source": [
    "import pandas as pd\n",
    "from sklearn.svm import SVC\n",
    "\n",
    "data1_path = \"C:\\\\Users\\\\hari prasad\\\\Desktop\\\\VIP\\\\7th SEM_SRM\\\\Minor_Project\\\\Implementation\\\\Sample_Test1.csv\"\n",
    "data1 = pd.read_csv(data1_path)\n",
    "\n",
    "data2_path = \"C:\\\\Users\\\\hari prasad\\\\Desktop\\\\VIP\\\\7th SEM_SRM\\\\Minor_Project\\\\Implementation\\\\Copy_of_dengue.csv\"\n",
    "data2 = pd.read_csv(data2_path)\n",
    "\n",
    "X_second_dataset = data2.drop(columns=['Dengue_classification'])\n",
    "\n",
    "y_first_dataset = data1['Dengue_classification']\n",
    "\n",
    "svm_classifier = SVC(kernel='linear')\n",
    "\n",
    "svm_classifier.fit(data1.drop(columns=['Dengue_classification']), y_first_dataset)\n",
    "\n",
    "predicted_labels = svm_classifier.predict(X_second_dataset)\n",
    "\n",
    "data2['Dengue_classification'] = predicted_labels\n",
    "\n",
    "data2.to_csv(\"C:\\\\Users\\\\hari prasad\\\\Desktop\\\\VIP\\\\7th SEM_SRM\\\\Minor_Project\\\\Implementation\\\\Copy_of_dengue_with_predictions.csv\", index=False)\n"
   ]
  },
  {
   "cell_type": "markdown",
   "id": "c17e242d",
   "metadata": {},
   "source": [
    "# Models"
   ]
  },
  {
   "cell_type": "code",
   "execution_count": 15,
   "id": "46bea3a1",
   "metadata": {
    "scrolled": true
   },
   "outputs": [
    {
     "data": {
      "image/png": "[encoded data removed]",
      "text/plain": [
       "<Figure size 800x400 with 1 Axes>"
      ]
     },
     "metadata": {},
     "output_type": "display_data"
    }
   ],
   "source": [
    "import matplotlib.pyplot as plt\n",
    "import pandas as pd\n",
    "\n",
    "data1_path = \"C:\\\\Users\\\\hari prasad\\\\Desktop\\\\VIP\\\\7th SEM_SRM\\\\Minor_Project\\\\Implementation\\\\Copy_of_dengue_with_predictions.csv\"\n",
    "df = pd.read_csv(data1_path)\n",
    "\n",
    "# Create a bar plot\n",
    "plt.figure(figsize=(8, 4))\n",
    "df['Dengue_classification'].value_counts().sort_index().plot(kind='bar', color='skyblue')\n",
    "\n",
    "# Adding labels and title\n",
    "plt.xlabel('Dengue Classification')\n",
    "plt.ylabel('Count')\n",
    "plt.title('Distribution of Dengue Classification')\n",
    "\n",
    "# Adding labels for the three conditions\n",
    "plt.xticks([0, 1, 2], ['Febrile phase', 'Critical phase', 'Recovery phase'])\n",
    "\n",
    "# Show the plot\n",
    "plt.show()\n"
   ]
  },
  {
   "cell_type": "code",
   "execution_count": 6,
   "id": "49a115f3",
   "metadata": {
    "scrolled": false
   },
   "outputs": [
    {
     "data": {
      "text/html": [
       "<div>\n",
       "<style scoped>\n",
       "    .dataframe tbody tr th:only-of-type {\n",
       "        vertical-align: middle;\n",
       "    }\n",
       "\n",
       "    .dataframe tbody tr th {\n",
       "        vertical-align: top;\n",
       "    }\n",
       "\n",
       "    .dataframe thead th {\n",
       "        text-align: right;\n",
       "    }\n",
       "</style>\n",
       "<table border=\"1\" class=\"dataframe\">\n",
       "  <thead>\n",
       "    <tr style=\"text-align: right;\">\n",
       "      <th></th>\n",
       "      <th>dengue_days</th>\n",
       "      <th>dengue_current_temp</th>\n",
       "      <th>dengue_wbc</th>\n",
       "      <th>dengue_servere_headche</th>\n",
       "      <th>dengue_pain_behind_the_eyes</th>\n",
       "      <th>dengue_joint_muscle_aches</th>\n",
       "      <th>dengue_metallic_taste_in_the_mouth</th>\n",
       "      <th>dengue_appetite_loss</th>\n",
       "      <th>dengue_addominal_pain</th>\n",
       "      <th>dengue_nausea_vomiting</th>\n",
       "      <th>spontaneous_bleeding</th>\n",
       "      <th>dengue_plasma leakage</th>\n",
       "      <th>dengue_circulatory failure</th>\n",
       "      <th>dengue_hemoglobin</th>\n",
       "      <th>dengue_hematocrit</th>\n",
       "      <th>dengue_platelet</th>\n",
       "      <th>Dengue_classification</th>\n",
       "    </tr>\n",
       "  </thead>\n",
       "  <tbody>\n",
       "    <tr>\n",
       "      <th>count</th>\n",
       "      <td>100.000000</td>\n",
       "      <td>100.000000</td>\n",
       "      <td>100.00000</td>\n",
       "      <td>100.000000</td>\n",
       "      <td>100.000000</td>\n",
       "      <td>100.000000</td>\n",
       "      <td>100.000000</td>\n",
       "      <td>100.000000</td>\n",
       "      <td>100.0</td>\n",
       "      <td>100.000000</td>\n",
       "      <td>100.00000</td>\n",
       "      <td>100.000000</td>\n",
       "      <td>100.000000</td>\n",
       "      <td>100.000000</td>\n",
       "      <td>100.000000</td>\n",
       "      <td>100.000000</td>\n",
       "      <td>100.000000</td>\n",
       "    </tr>\n",
       "    <tr>\n",
       "      <th>mean</th>\n",
       "      <td>13.300000</td>\n",
       "      <td>103.790000</td>\n",
       "      <td>1.92100</td>\n",
       "      <td>0.510000</td>\n",
       "      <td>0.580000</td>\n",
       "      <td>0.500000</td>\n",
       "      <td>0.500000</td>\n",
       "      <td>0.340000</td>\n",
       "      <td>0.0</td>\n",
       "      <td>0.490000</td>\n",
       "      <td>0.43000</td>\n",
       "      <td>0.500000</td>\n",
       "      <td>0.110000</td>\n",
       "      <td>10.010000</td>\n",
       "      <td>64.710000</td>\n",
       "      <td>74.730000</td>\n",
       "      <td>1.840000</td>\n",
       "    </tr>\n",
       "    <tr>\n",
       "      <th>std</th>\n",
       "      <td>4.553831</td>\n",
       "      <td>1.310756</td>\n",
       "      <td>0.95487</td>\n",
       "      <td>0.502418</td>\n",
       "      <td>0.496045</td>\n",
       "      <td>0.502519</td>\n",
       "      <td>0.502519</td>\n",
       "      <td>0.476095</td>\n",
       "      <td>0.0</td>\n",
       "      <td>0.502418</td>\n",
       "      <td>0.49757</td>\n",
       "      <td>0.502519</td>\n",
       "      <td>0.314466</td>\n",
       "      <td>0.641101</td>\n",
       "      <td>8.573267</td>\n",
       "      <td>11.173431</td>\n",
       "      <td>0.506922</td>\n",
       "    </tr>\n",
       "    <tr>\n",
       "      <th>min</th>\n",
       "      <td>6.000000</td>\n",
       "      <td>101.500000</td>\n",
       "      <td>1.00000</td>\n",
       "      <td>0.000000</td>\n",
       "      <td>0.000000</td>\n",
       "      <td>0.000000</td>\n",
       "      <td>0.000000</td>\n",
       "      <td>0.000000</td>\n",
       "      <td>0.0</td>\n",
       "      <td>0.000000</td>\n",
       "      <td>0.00000</td>\n",
       "      <td>0.000000</td>\n",
       "      <td>0.000000</td>\n",
       "      <td>9.000000</td>\n",
       "      <td>50.000000</td>\n",
       "      <td>53.000000</td>\n",
       "      <td>1.000000</td>\n",
       "    </tr>\n",
       "    <tr>\n",
       "      <th>25%</th>\n",
       "      <td>9.000000</td>\n",
       "      <td>103.500000</td>\n",
       "      <td>1.10000</td>\n",
       "      <td>0.000000</td>\n",
       "      <td>0.000000</td>\n",
       "      <td>0.000000</td>\n",
       "      <td>0.000000</td>\n",
       "      <td>0.000000</td>\n",
       "      <td>0.0</td>\n",
       "      <td>0.000000</td>\n",
       "      <td>0.00000</td>\n",
       "      <td>0.000000</td>\n",
       "      <td>0.000000</td>\n",
       "      <td>9.475000</td>\n",
       "      <td>57.000000</td>\n",
       "      <td>65.000000</td>\n",
       "      <td>2.000000</td>\n",
       "    </tr>\n",
       "    <tr>\n",
       "      <th>50%</th>\n",
       "      <td>13.000000</td>\n",
       "      <td>103.750000</td>\n",
       "      <td>2.05000</td>\n",
       "      <td>1.000000</td>\n",
       "      <td>1.000000</td>\n",
       "      <td>0.500000</td>\n",
       "      <td>0.500000</td>\n",
       "      <td>0.000000</td>\n",
       "      <td>0.0</td>\n",
       "      <td>0.000000</td>\n",
       "      <td>0.00000</td>\n",
       "      <td>0.500000</td>\n",
       "      <td>0.000000</td>\n",
       "      <td>10.000000</td>\n",
       "      <td>65.000000</td>\n",
       "      <td>76.000000</td>\n",
       "      <td>2.000000</td>\n",
       "    </tr>\n",
       "    <tr>\n",
       "      <th>75%</th>\n",
       "      <td>17.000000</td>\n",
       "      <td>105.000000</td>\n",
       "      <td>2.30000</td>\n",
       "      <td>1.000000</td>\n",
       "      <td>1.000000</td>\n",
       "      <td>1.000000</td>\n",
       "      <td>1.000000</td>\n",
       "      <td>1.000000</td>\n",
       "      <td>0.0</td>\n",
       "      <td>1.000000</td>\n",
       "      <td>1.00000</td>\n",
       "      <td>1.000000</td>\n",
       "      <td>0.000000</td>\n",
       "      <td>10.525000</td>\n",
       "      <td>72.000000</td>\n",
       "      <td>85.000000</td>\n",
       "      <td>2.000000</td>\n",
       "    </tr>\n",
       "    <tr>\n",
       "      <th>max</th>\n",
       "      <td>21.000000</td>\n",
       "      <td>106.000000</td>\n",
       "      <td>5.00000</td>\n",
       "      <td>1.000000</td>\n",
       "      <td>1.000000</td>\n",
       "      <td>1.000000</td>\n",
       "      <td>1.000000</td>\n",
       "      <td>1.000000</td>\n",
       "      <td>0.0</td>\n",
       "      <td>1.000000</td>\n",
       "      <td>1.00000</td>\n",
       "      <td>1.000000</td>\n",
       "      <td>1.000000</td>\n",
       "      <td>11.200000</td>\n",
       "      <td>79.000000</td>\n",
       "      <td>92.000000</td>\n",
       "      <td>3.000000</td>\n",
       "    </tr>\n",
       "  </tbody>\n",
       "</table>\n",
       "</div>"
      ],
      "text/plain": [
       "       dengue_days  dengue_current_temp  dengue_wbc  dengue_servere_headche  \\\n",
       "count   100.000000           100.000000   100.00000              100.000000   \n",
       "mean     13.300000           103.790000     1.92100                0.510000   \n",
       "std       4.553831             1.310756     0.95487                0.502418   \n",
       "min       6.000000           101.500000     1.00000                0.000000   \n",
       "25%       9.000000           103.500000     1.10000                0.000000   \n",
       "50%      13.000000           103.750000     2.05000                1.000000   \n",
       "75%      17.000000           105.000000     2.30000                1.000000   \n",
       "max      21.000000           106.000000     5.00000                1.000000   \n",
       "\n",
       "       dengue_pain_behind_the_eyes  dengue_joint_muscle_aches  \\\n",
       "count                   100.000000                 100.000000   \n",
       "mean                      0.580000                   0.500000   \n",
       "std                       0.496045                   0.502519   \n",
       "min                       0.000000                   0.000000   \n",
       "25%                       0.000000                   0.000000   \n",
       "50%                       1.000000                   0.500000   \n",
       "75%                       1.000000                   1.000000   \n",
       "max                       1.000000                   1.000000   \n",
       "\n",
       "       dengue_metallic_taste_in_the_mouth  dengue_appetite_loss  \\\n",
       "count                          100.000000            100.000000   \n",
       "mean                             0.500000              0.340000   \n",
       "std                              0.502519              0.476095   \n",
       "min                              0.000000              0.000000   \n",
       "25%                              0.000000              0.000000   \n",
       "50%                              0.500000              0.000000   \n",
       "75%                              1.000000              1.000000   \n",
       "max                              1.000000              1.000000   \n",
       "\n",
       "       dengue_addominal_pain  dengue_nausea_vomiting  spontaneous_bleeding  \\\n",
       "count                  100.0              100.000000             100.00000   \n",
       "mean                     0.0                0.490000               0.43000   \n",
       "std                      0.0                0.502418               0.49757   \n",
       "min                      0.0                0.000000               0.00000   \n",
       "25%                      0.0                0.000000               0.00000   \n",
       "50%                      0.0                0.000000               0.00000   \n",
       "75%                      0.0                1.000000               1.00000   \n",
       "max                      0.0                1.000000               1.00000   \n",
       "\n",
       "       dengue_plasma leakage  dengue_circulatory failure  dengue_hemoglobin  \\\n",
       "count             100.000000                  100.000000         100.000000   \n",
       "mean                0.500000                    0.110000          10.010000   \n",
       "std                 0.502519                    0.314466           0.641101   \n",
       "min                 0.000000                    0.000000           9.000000   \n",
       "25%                 0.000000                    0.000000           9.475000   \n",
       "50%                 0.500000                    0.000000          10.000000   \n",
       "75%                 1.000000                    0.000000          10.525000   \n",
       "max                 1.000000                    1.000000          11.200000   \n",
       "\n",
       "       dengue_hematocrit   dengue_platelet  Dengue_classification  \n",
       "count          100.000000       100.000000             100.000000  \n",
       "mean            64.710000        74.730000               1.840000  \n",
       "std              8.573267        11.173431               0.506922  \n",
       "min             50.000000        53.000000               1.000000  \n",
       "25%             57.000000        65.000000               2.000000  \n",
       "50%             65.000000        76.000000               2.000000  \n",
       "75%             72.000000        85.000000               2.000000  \n",
       "max             79.000000        92.000000               3.000000  "
      ]
     },
     "execution_count": 6,
     "metadata": {},
     "output_type": "execute_result"
    }
   ],
   "source": [
    "data = pd.read_csv('Copy_of_dengue_with_predictions.csv')\n",
    "data.describe()"
   ]
  },
  {
   "cell_type": "markdown",
   "id": "20b568bd",
   "metadata": {},
   "source": [
    "# Random Forest Testing"
   ]
  },
  {
   "cell_type": "code",
   "execution_count": 7,
   "id": "aedd475d",
   "metadata": {},
   "outputs": [],
   "source": [
    "import pandas as pd\n",
    "from sklearn.ensemble import RandomForestClassifier\n",
    "\n",
    "data1_path = \"C:\\\\Users\\\\hari prasad\\\\Desktop\\\\VIP\\\\7th SEM_SRM\\\\Minor_Project\\\\Implementation\\\\Sample_Test1.csv\"\n",
    "data1 = pd.read_csv(data1_path)\n",
    "\n",
    "data2_path = \"C:\\\\Users\\\\hari prasad\\\\Desktop\\\\VIP\\\\7th SEM_SRM\\\\Minor_Project\\\\Implementation\\\\Copy_of_dengue.csv\"\n",
    "data2 = pd.read_csv(data2_path)\n",
    "\n",
    "X_first_dataset = data1.drop(columns=['Dengue_classification'])\n",
    "y_first_dataset = data1['Dengue_classification']\n",
    "\n",
    "random_forest_classifier = RandomForestClassifier(n_estimators=100, random_state=42)\n",
    "\n",
    "random_forest_classifier.fit(X_first_dataset, y_first_dataset)\n",
    "\n",
    "predicted_labels = random_forest_classifier.predict(data2.drop(columns=['Dengue_classification']))\n",
    "\n",
    "data2['Dengue_classification'] = predicted_labels\n",
    "\n",
    "data2.to_csv(\"C:\\\\Users\\\\hari prasad\\\\Desktop\\\\VIP\\\\7th SEM_SRM\\\\Minor_Project\\\\Implementation\\\\Copy_of_dengue_with_predictions_2.csv\", index=False)\n"
   ]
  },
  {
   "cell_type": "markdown",
   "id": "3f3b201e",
   "metadata": {},
   "source": [
    "# Model"
   ]
  },
  {
   "cell_type": "code",
   "execution_count": 8,
   "id": "d9f4f7b7",
   "metadata": {},
   "outputs": [
    {
     "data": {
      "image/png": "[encoded data removed]",
      "text/plain": [
       "<Figure size 800x400 with 1 Axes>"
      ]
     },
     "metadata": {},
     "output_type": "display_data"
    }
   ],
   "source": [
    "import matplotlib.pyplot as plt\n",
    "import pandas as pd\n",
    "\n",
    "data1_path = \"C:\\\\Users\\\\hari prasad\\\\Desktop\\\\VIP\\\\7th SEM_SRM\\\\Minor_Project\\\\Implementation\\\\Copy_of_dengue_with_predictions_2.csv\"\n",
    "df = pd.read_csv(data1_path)\n",
    "\n",
    "# Create a bar plot\n",
    "plt.figure(figsize=(8, 4))\n",
    "df['Dengue_classification'].value_counts().sort_index().plot(kind='bar', color='skyblue')\n",
    "\n",
    "# Adding labels and title\n",
    "plt.xlabel('Dengue Classification')\n",
    "plt.ylabel('Count')\n",
    "plt.title('Distribution of Dengue Classification')\n",
    "\n",
    "# Adding labels for the three conditions\n",
    "plt.xticks([0, 1, 2], ['Febrile phase', 'Critical phase', 'Recovery phase'])\n",
    "\n",
    "# Show the plot\n",
    "plt.show()\n"
   ]
  },
  {
   "cell_type": "markdown",
   "id": "f6aa806a",
   "metadata": {},
   "source": [
    "# TESTING COMPARISON"
   ]
  },
  {
   "cell_type": "code",
   "execution_count": 9,
   "id": "70d8a532",
   "metadata": {},
   "outputs": [],
   "source": [
    "import pandas as pd\n",
    "import numpy as np\n",
    "import matplotlib.pyplot as plt\n"
   ]
  },
  {
   "cell_type": "code",
   "execution_count": 10,
   "id": "7869895a",
   "metadata": {},
   "outputs": [],
   "source": [
    "file1_path = r\"C:\\Users\\hari prasad\\Desktop\\VIP\\7th SEM_SRM\\Minor_Project\\Implementation\\Copy_of_dengue_with_predictions.csv\"\n",
    "file2_path = r\"C:\\Users\\hari prasad\\Desktop\\VIP\\7th SEM_SRM\\Minor_Project\\Implementation\\Copy_of_dengue_with_predictions_2.csv\"\n",
    "\n",
    "file1 = pd.read_csv(file1_path)\n",
    "file2 = pd.read_csv(file2_path)\n"
   ]
  },
  {
   "cell_type": "code",
   "execution_count": 11,
   "id": "1c8ffb19",
   "metadata": {},
   "outputs": [],
   "source": [
    "column1 = file1['Dengue_classification']\n",
    "column2 = file2['Dengue_classification']\n"
   ]
  },
  {
   "cell_type": "code",
   "execution_count": 12,
   "id": "5cc88c6e",
   "metadata": {},
   "outputs": [
    {
     "data": {
      "image/png": "[encoded data removed]",
      "text/plain": [
       "<Figure size 800x400 with 1 Axes>"
      ]
     },
     "metadata": {},
     "output_type": "display_data"
    },
    {
     "name": "stdout",
     "output_type": "stream",
     "text": [
      "Mean Difference: 0.41000000000000014\n"
     ]
    }
   ],
   "source": [
    "mean_diff = np.mean(column1) - np.mean(column2)\n",
    "\n",
    "plt.figure(figsize=(8, 4))\n",
    "plt.hist(column1, bins=20, alpha=0.5, label='File 1')\n",
    "plt.hist(column2, bins=20, alpha=0.5, label='File 2')\n",
    "plt.legend()\n",
    "plt.title('Histogram Comparison')\n",
    "plt.show()\n",
    "\n",
    "print(f\"Mean Difference: {mean_diff}\")\n"
   ]
  },
  {
   "cell_type": "markdown",
   "id": "00e8afc3",
   "metadata": {},
   "source": [
    "# Model Evaluation and Comparison for Dengue Classification"
   ]
  },
  {
   "cell_type": "code",
   "execution_count": 13,
   "id": "d7824dd2",
   "metadata": {},
   "outputs": [
    {
     "name": "stdout",
     "output_type": "stream",
     "text": [
      "Metrics for Model Predictions:\n",
      "Accuracy: 0.56\n",
      "Precision: 0.56\n",
      "Recall: 0.56\n",
      "F1-Score: 0.56\n",
      "\n",
      "Confusion Matrix:\n",
      "[[20  2  0]\n",
      " [36 35  1]\n",
      " [ 3  2  1]]\n"
     ]
    }
   ],
   "source": [
    "import pandas as pd\n",
    "from sklearn.metrics import accuracy_score, precision_score, recall_score, f1_score, confusion_matrix\n",
    "\n",
    "# Load the first dataset (original dataset with true labels)\n",
    "file1_path = r\"C:\\Users\\hari prasad\\Desktop\\VIP\\7th SEM_SRM\\Minor_Project\\Implementation\\Copy_of_dengue_with_predictions.csv\"\n",
    "data1 = pd.read_csv(file1_path)\n",
    "\n",
    "# Load the second dataset (dataset with predictions)\n",
    "file2_path = r\"C:\\Users\\hari prasad\\Desktop\\VIP\\7th SEM_SRM\\Minor_Project\\Implementation\\Copy_of_dengue_with_predictions_2.csv\"\n",
    "data2 = pd.read_csv(file2_path)\n",
    "\n",
    "# Extract true labels from the first dataset\n",
    "true_labels = data1['Dengue_classification']\n",
    "\n",
    "# Extract predicted labels from the second dataset\n",
    "predicted_labels = data2['Dengue_classification']\n",
    "\n",
    "# Calculate evaluation metrics\n",
    "accuracy = accuracy_score(true_labels, predicted_labels)\n",
    "precision = precision_score(true_labels, predicted_labels, average='micro')  # 'micro' for multiclass\n",
    "recall = recall_score(true_labels, predicted_labels, average='weighted')  # 'weighted' for class imbalance\n",
    "f1 = f1_score(true_labels, predicted_labels, average='micro')\n",
    "\n",
    "# Calculate and print the confusion matrix\n",
    "confusion = confusion_matrix(true_labels, predicted_labels)\n",
    "\n",
    "# Display the metrics\n",
    "print(\"Metrics for Model Predictions:\")\n",
    "print(f\"Accuracy: {accuracy}\")\n",
    "print(f\"Precision: {precision}\")\n",
    "print(f\"Recall: {recall}\")\n",
    "print(f\"F1-Score: {f1}\")\n",
    "print(\"\\nConfusion Matrix:\")\n",
    "print(confusion)\n"
   ]
  },
  {
   "cell_type": "code",
   "execution_count": null,
   "id": "cf2ea168",
   "metadata": {},
   "outputs": [],
   "source": []
  }
 ],
 "metadata": {
  "kernelspec": {
   "display_name": "Python 3 (ipykernel)",
   "language": "python",
   "name": "python3"
  },
  "language_info": {
   "codemirror_mode": {
    "name": "ipython",
    "version": 3
   },
   "file_extension": ".py",
   "mimetype": "text/x-python",
   "name": "python",
   "nbconvert_exporter": "python",
   "pygments_lexer": "ipython3",
   "version": "3.11.4"
  }
 },
 "nbformat": 4,
 "nbformat_minor": 5
}
